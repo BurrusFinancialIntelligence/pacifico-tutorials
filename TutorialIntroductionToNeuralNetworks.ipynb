{
  "nbformat": 4,
  "nbformat_minor": 0,
  "metadata": {
    "colab": {
      "provenance": []
    },
    "kernelspec": {
      "name": "python3",
      "display_name": "Python 3"
    },
    "language_info": {
      "name": "python"
    }
  },
  "cells": [
    {
      "cell_type": "markdown",
      "source": [
        "# Introduction to Neural Networks"
      ],
      "metadata": {
        "id": "n3nMbkqb11TD"
      }
    },
    {
      "cell_type": "markdown",
      "source": [
        "## 0) Import relevant libraries"
      ],
      "metadata": {
        "id": "3hPpcjP8MXw7"
      }
    },
    {
      "cell_type": "markdown",
      "source": [
        "These libraries will help us along the tutorial for basic funcionalities."
      ],
      "metadata": {
        "id": "2M4yllHajSfC"
      }
    },
    {
      "cell_type": "code",
      "source": [
        "import requests\n",
        "import numpy\n",
        "import zipfile\n",
        "import os\n",
        "import struct\n",
        "import array\n",
        "import random\n",
        "import matplotlib.pyplot as plt"
      ],
      "metadata": {
        "id": "RaVriwXIMcVH"
      },
      "execution_count": 35,
      "outputs": []
    },
    {
      "cell_type": "markdown",
      "source": [
        "## 1) Declare the objects"
      ],
      "metadata": {
        "id": "ucj_6kvcMH6H"
      }
    },
    {
      "cell_type": "markdown",
      "source": [
        "### Dataset\n",
        "\n",
        "This class will lets us read and manipulate the MNIST dataset in order to train and validate out model."
      ],
      "metadata": {
        "id": "7X4wYp-9sQFC"
      }
    },
    {
      "cell_type": "code",
      "source": [
        "class Dataset:\n",
        "    def __init__(self):\n",
        "        self.trainImages = None\n",
        "        self.trainLabels = None\n",
        "        self.trainImagesRaw = None\n",
        "        self.testImagesRaw = None\n",
        "        self.testImages = None\n",
        "        self.testLabels = None\n",
        "        self.load()\n",
        "\n",
        "    def getTrainImages(self) -> list:\n",
        "        return self.trainImages\n",
        "\n",
        "    def getTrainLabels(self) -> list:\n",
        "        return self.trainLabels\n",
        "\n",
        "    def getTestImages(self) -> list:\n",
        "        return self.testImages\n",
        "\n",
        "    def getTestLabels(self) -> list:\n",
        "        return self.testLabels\n",
        "\n",
        "    def getSizeTrain(self) -> int:\n",
        "        return len(self.trainLabels)\n",
        "\n",
        "    def parseOutput(self, output) -> numpy.array:\n",
        "        parsedOutput = [0 for i in range(10)]\n",
        "        parsedOutput[output] = 1\n",
        "        return numpy.array(parsedOutput)\n",
        "\n",
        "    def unParseOutput(self, output: numpy.array) -> int:\n",
        "        output = list(output)\n",
        "        maxValue = max(output)\n",
        "        output = output.index(maxValue)\n",
        "        return output\n",
        "\n",
        "    def getArgumentTrain(self, p: int) -> list:\n",
        "        if self.trainImages is not None:\n",
        "            if len(self.trainImages) > 0:\n",
        "                return self.trainImages[p]\n",
        "        return None\n",
        "\n",
        "    def getArgumentTrainRaw(self, p: int) -> list:\n",
        "        if self.trainImagesRaw is not None:\n",
        "            if len(self.trainImagesRaw) > 0:\n",
        "                return self.trainImagesRaw[p]\n",
        "        return None\n",
        "\n",
        "    def getOutputTrain(self, p: int, parsed: bool = True) -> numpy.array:\n",
        "        if self.trainLabels is not None:\n",
        "            if len(self.trainLabels) > 0:\n",
        "                output = self.trainLabels[p]\n",
        "                if not parsed:\n",
        "                    return output\n",
        "                return self.parseOutput(output)\n",
        "        return None\n",
        "\n",
        "    def getSizeArgumentTrain(self) -> int:\n",
        "        someArgument = self.getArgumentTrain(0)\n",
        "        if isinstance(someArgument, (int, float)):\n",
        "            return 1\n",
        "        return 0 if someArgument is None else len(someArgument)\n",
        "\n",
        "    def getSizeOutputTrain(self) -> int:\n",
        "        someOutput = self.getOutputTrain(0)\n",
        "        if isinstance(someOutput, (int, float)):\n",
        "            return 1\n",
        "        return 0 if someOutput is None else len(someOutput)\n",
        "\n",
        "    def getSizeTest(self) -> int:\n",
        "        return len(self.testLabels)\n",
        "\n",
        "    def getArgumentTest(self, p: int) -> list:\n",
        "        if self.testImages is not None:\n",
        "            if len(self.testImages) > 0:\n",
        "                return self.testImages[p]\n",
        "        return None\n",
        "\n",
        "    def getArgumentTestRaw(self, p: int) -> list:\n",
        "        if self.testImagesRaw is not None:\n",
        "            if len(self.testImagesRaw) > 0:\n",
        "                return self.testImagesRaw[p]\n",
        "        return None\n",
        "\n",
        "    def getOutputTest(self, p: int, parsed: bool = True) -> numpy.array:\n",
        "        if self.testLabels is not None:\n",
        "            if len(self.testLabels) > 0:\n",
        "                output = self.testLabels[p]\n",
        "                if not parsed:\n",
        "                    return output\n",
        "                return self.parseOutput(output)\n",
        "        return None\n",
        "\n",
        "    def getSizeArgumentTest(self) -> int:\n",
        "        someArgument = self.getArgumentTest(0)\n",
        "        if isinstance(someArgument, (int, float)):\n",
        "            return 1\n",
        "        return 0 if someArgument is None else len(someArgument)\n",
        "\n",
        "    def getSizeOutputTest(self) -> int:\n",
        "        someOutput = self.getOutputTest(0)\n",
        "        if isinstance(someOutput, (int, float)):\n",
        "            return 1\n",
        "        return 0 if someOutput is None else len(someOutput)\n",
        "\n",
        "    def load(self):\n",
        "        trainImagesFilepath, trainLabelsFilepath, testImagesFilepath, testLabelsFilepath = self.downloadData()\n",
        "        trainImages, trainImagesRaw, trainLabels = self.readImagesandLabels(trainImagesFilepath, trainLabelsFilepath)\n",
        "        testImages, testImagesRaw, testLabels = self.readImagesandLabels(testImagesFilepath, testLabelsFilepath)\n",
        "        self.trainImages = trainImages\n",
        "        self.trainLabels = trainLabels\n",
        "        self.trainImagesRaw = trainImagesRaw\n",
        "        self.testImagesRaw = testImagesRaw\n",
        "        self.testImages = testImages\n",
        "        self.testLabels = testLabels\n",
        "        # Cleanup files\n",
        "        os.remove(trainImagesFilepath)\n",
        "        os.remove(trainLabelsFilepath)\n",
        "        os.remove(testImagesFilepath)\n",
        "        os.remove(testLabelsFilepath)\n",
        "        os.rmdir(trainImagesFilepath.split(\"/\")[0])\n",
        "        os.rmdir(trainLabelsFilepath.split(\"/\")[0])\n",
        "        os.rmdir(testImagesFilepath.split(\"/\")[0])\n",
        "        os.rmdir(testLabelsFilepath.split(\"/\")[0])\n",
        "        os.remove(trainImagesFilepath.split(\"/\")[0].replace(\"-idx\", \".idx\"))\n",
        "        os.remove(trainLabelsFilepath.split(\"/\")[0].replace(\"-idx\", \".idx\"))\n",
        "        os.remove(testImagesFilepath.split(\"/\")[0].replace(\"-idx\", \".idx\"))\n",
        "        os.remove(testLabelsFilepath.split(\"/\")[0].replace(\"-idx\", \".idx\"))\n",
        "        print(f\"Dataset: Images and labels loaded succesfully!\")\n",
        "\n",
        "    def readImagesandLabels(self, imagesFilepath: str, labelsFilepath: str) -> tuple:\n",
        "        # Labels\n",
        "        labels = []\n",
        "        with open(labelsFilepath, 'rb') as file:\n",
        "            magic, size = struct.unpack(\">II\", file.read(8))\n",
        "            if magic != 2049:\n",
        "                raise ValueError(\n",
        "                    f'Dataset - readImagesandLabels: Magic number for labels mismatch, expected 2049, got {magic}')\n",
        "            labels = array.array(\"B\", file.read())\n",
        "        # Images\n",
        "        with open(imagesFilepath, 'rb') as file:\n",
        "            magic, size, rows, cols = struct.unpack(\">IIII\", file.read(16))\n",
        "            if magic != 2051:\n",
        "                raise ValueError(\n",
        "                    f'Dataset - readImagesandLabels: Magic number for images mismatch, expected 2051, got {magic}')\n",
        "            image_data = array.array(\"B\", file.read())\n",
        "        imagesRaw = []\n",
        "        images = []\n",
        "        for i in range(size):\n",
        "            imagesRaw.append([0] * rows * cols)\n",
        "            images.append([0] * rows * cols)\n",
        "        for i in range(size):\n",
        "            img = numpy.array(image_data[i * rows * cols:(i + 1) * rows * cols])\n",
        "            img = img.reshape(28, 28)\n",
        "            imagesRaw[i][:] = img\n",
        "            img = img.reshape(-1)\n",
        "            img = img.astype(numpy.float32) / 255.0  # Normalize inputs to go from 0 to 1 instead of 0 to 255\n",
        "            images[i][:] = img\n",
        "        return images, imagesRaw, labels\n",
        "\n",
        "    @staticmethod\n",
        "    def downloadData() -> tuple:\n",
        "        datasetUrl = \"http://tutorials.bfiapi.com/IntroductionToNeuralNetworks/MNIST_dataset.zip\"\n",
        "        response = requests.get(datasetUrl)\n",
        "        zipFilename = datasetUrl.split(\"/\")[-1]\n",
        "        if response.status_code == 200:\n",
        "            with open(zipFilename, 'wb') as f:\n",
        "                f.write(response.content)\n",
        "            print(f\"Dataset - downloadData: File '{zipFilename}' downloaded successfully.\")\n",
        "        else:\n",
        "            print(\n",
        "                f\"Dataset - downloadData: Failed to download '{zipFilename}' file. Status code: {response.status_code}\")\n",
        "        zip_ref = zipfile.ZipFile(zipFilename, 'r')\n",
        "        zip_ref.extractall()\n",
        "        zip_ref.close()\n",
        "        os.remove(zipFilename)\n",
        "        # This paths come directly from the data source (https://www.kaggle.com/code/hojjatk/read-mnist-dataset/notebook)\n",
        "        trainImagesFilepath = 'train-images-idx3-ubyte/train-images-idx3-ubyte'\n",
        "        trainLabelsFilepath = 'train-labels-idx1-ubyte/train-labels-idx1-ubyte'\n",
        "        testImagesFilepath = 't10k-images-idx3-ubyte/t10k-images-idx3-ubyte'\n",
        "        testLabelsFilepath = 't10k-labels-idx1-ubyte/t10k-labels-idx1-ubyte'\n",
        "        return trainImagesFilepath, trainLabelsFilepath, testImagesFilepath, testLabelsFilepath\n",
        "\n",
        "    @staticmethod\n",
        "    def showImages(images, titles):\n",
        "        print('\\n')\n",
        "        columns = 3\n",
        "        rows = int(len(images) / columns) + 1\n",
        "        plt.figure(figsize=(30, 20))\n",
        "        index = 1\n",
        "        for image, title in zip(images, titles):\n",
        "            plt.subplot(rows, columns, index)\n",
        "            plt.imshow(image, cmap=plt.cm.gray)\n",
        "            if title != '':\n",
        "                plt.title(title, fontsize=10)\n",
        "            index += 1\n",
        "        plt.show()\n"
      ],
      "metadata": {
        "id": "UgYczXyosjAt"
      },
      "execution_count": 36,
      "outputs": []
    },
    {
      "cell_type": "markdown",
      "source": [
        "## Sigmoid\n",
        "\n",
        "This class will help us implement the sigmoid function and it's derivative."
      ],
      "metadata": {
        "id": "mVKOSIRfXhZc"
      }
    },
    {
      "cell_type": "code",
      "source": [
        "class Sigmoid:\n",
        "    def __init__(self):\n",
        "        pass\n",
        "\n",
        "    @staticmethod\n",
        "    def getValue(v: float):\n",
        "        return 1 / (1 + numpy.exp(-v))\n",
        "\n",
        "    @classmethod\n",
        "    def getDerivative(cls, v: float):\n",
        "        return cls.getValue(v) * (1 - cls.getValue(v))\n"
      ],
      "metadata": {
        "id": "VrMBeOPeXoHB"
      },
      "execution_count": 37,
      "outputs": []
    },
    {
      "cell_type": "markdown",
      "source": [
        "### Neuron\n",
        "\n",
        "This class will help us generalize and describe the neurons with their internal parameters and functionalities."
      ],
      "metadata": {
        "id": "PRFeIZkcjaJ5"
      }
    },
    {
      "cell_type": "code",
      "execution_count": 38,
      "metadata": {
        "id": "KjdsNx-L1O_L"
      },
      "outputs": [],
      "source": [
        "class Neuron:\n",
        "    def __init__(self, value: float, delta: float, weights: list, bias: float, preactivation: float):\n",
        "        self.value = value\n",
        "        self.delta = delta\n",
        "        self.weights = weights\n",
        "        self.bias = bias\n",
        "        self.preactivation = preactivation\n",
        "\n",
        "    def setPreactivationVariable(self, inputs: list):\n",
        "        self.preactivation = self.bias + numpy.dot(self.weights, inputs)\n",
        "\n",
        "    def getActivationValue(self):\n",
        "        return Sigmoid.getValue(self.preactivation)\n",
        "\n",
        "    def setLocalGradient(self, expectedOutput: float):\n",
        "        self.delta = (self.value - expectedOutput) * Sigmoid.getDerivative(self.preactivation)\n",
        "\n",
        "    def getValue(self):\n",
        "        return self.value\n",
        "\n",
        "    def setValue(self, inputs: list):\n",
        "        self.setPreactivationVariable(inputs)\n",
        "        self.value = self.getActivationValue()\n",
        "\n",
        "    def updateParameters(self, learningRatio: float, inputs):\n",
        "        inputs = numpy.array(inputs, dtype=float)\n",
        "        self.updateBias(learningRatio)\n",
        "        self.updateWeights(learningRatio, inputs)\n",
        "\n",
        "    def updateBias(self, learningRatio: float):\n",
        "        self.bias += -learningRatio * self.delta\n",
        "\n",
        "    def updateWeights(self, learningRatio: float, inputs):\n",
        "        self.weights += -learningRatio * self.delta * inputs\n",
        "\n",
        "    def updateLocalGradient(self, nextLayer, neuronIndex: int):\n",
        "        nextLayerWeights = []\n",
        "        nextLayerDeltas = []\n",
        "        for nextLayerNeuron in nextLayer.neurons:\n",
        "            nextLayerWeights.append(nextLayerNeuron.weights[neuronIndex])\n",
        "            nextLayerDeltas.append(nextLayerNeuron.delta)\n",
        "        nextLayerWeights = numpy.array(nextLayerWeights, dtype=float)\n",
        "        nextLayerDeltas = numpy.array(nextLayerDeltas, dtype=float)\n",
        "        self.delta = Sigmoid.getDerivative(self.preactivation) * numpy.dot(nextLayerWeights, nextLayerDeltas)\n",
        "\n",
        "    @classmethod\n",
        "    def create(cls, numberWeights: int):\n",
        "        value = 0\n",
        "        delta = 0\n",
        "        # Initializes a normally random vector the size of the neuron\n",
        "        weights = numpy.random.normal(loc=0.0, scale=0.1, size=numberWeights)\n",
        "        bias = 0\n",
        "        preactivation = 0\n",
        "        return cls(value, delta, weights, bias, preactivation)\n"
      ]
    },
    {
      "cell_type": "markdown",
      "source": [
        "### Layer\n",
        "\n",
        "This class will help us manage a group of neurons, their relationships and calculations."
      ],
      "metadata": {
        "id": "Fquo5Owgaxwx"
      }
    },
    {
      "cell_type": "code",
      "source": [
        "class Layer:\n",
        "    def __init__(self):\n",
        "        self.neurons = []\n",
        "        self.value = None\n",
        "        self.lastInputs = None\n",
        "\n",
        "    def insertNeuron(self, neuron: Neuron):\n",
        "        self.neurons.append(neuron)\n",
        "\n",
        "    def getSize(self):\n",
        "        return len(self.neurons)\n",
        "\n",
        "    def setValue(self, input: numpy.array):\n",
        "        self.value = input\n",
        "\n",
        "    def getValue(self):\n",
        "        return self.value\n",
        "\n",
        "    def forwardPropagate(self, previousLayer):\n",
        "        inputs = numpy.array(previousLayer.getValue(), dtype=float)\n",
        "        self.lastInputs = inputs\n",
        "        outputs = []\n",
        "        for neuron in self.neurons:\n",
        "            neuron.setValue(inputs)\n",
        "            outputs.append(neuron.value)\n",
        "        self.setValue(numpy.array(outputs, dtype=float))\n",
        "        return self\n",
        "\n",
        "    def setLocalGradient(self, expectedOutput: list):\n",
        "        for i, neuron in enumerate(self.neurons):\n",
        "            neuron.setLocalGradient(expectedOutput[i])\n",
        "\n",
        "    def backPropagate(self, nextLayer, learningRatio: float):\n",
        "        if nextLayer is not None and nextLayer.getSize() > 0:\n",
        "            for neuronIndex, neuron in enumerate(self.neurons):\n",
        "                neuron.updateLocalGradient(nextLayer, neuronIndex)\n",
        "        inputs = self.lastInputs\n",
        "        if inputs is None:\n",
        "            return\n",
        "        for neuron in self.neurons:\n",
        "            neuron.updateParameters(learningRatio, inputs)\n",
        "\n",
        "    @classmethod\n",
        "    def create(cls, numberNeurons: int):\n",
        "        layer = cls()\n",
        "        for i in range(numberNeurons):\n",
        "            neuron = Neuron.create(0)\n",
        "            layer.insertNeuron(neuron)\n",
        "        return layer\n",
        "\n",
        "    def createNextLayer(self, numberNeurons: int):\n",
        "        newLayer = Layer()\n",
        "        numberOfWeights = self.getSize()\n",
        "        for i in range(numberNeurons):\n",
        "            neuron = Neuron.create(numberOfWeights)\n",
        "            newLayer.insertNeuron(neuron)\n",
        "        return newLayer\n"
      ],
      "metadata": {
        "id": "9jCEfeZwbGFC"
      },
      "execution_count": 39,
      "outputs": []
    },
    {
      "cell_type": "markdown",
      "source": [
        "### Network\n",
        "\n",
        "This class will allow us to manipulate layers of neurons as one and implement the interactions needed for training the model."
      ],
      "metadata": {
        "id": "GNOUiYdnQ8zv"
      }
    },
    {
      "cell_type": "code",
      "source": [
        "class Network:\n",
        "    def __init__(self, learningRatio: float):\n",
        "        self.learningRatio = learningRatio\n",
        "        self.layers = []\n",
        "\n",
        "    def loss(self, output: list, expected: list):\n",
        "        output = numpy.array(output)\n",
        "        expected = numpy.array(expected)\n",
        "        return numpy.mean((output - expected) ** 2)  # This is the mean square's error loss function\n",
        "\n",
        "    def insertLayer(self, layer: Layer):\n",
        "        self.layers.append(layer)\n",
        "\n",
        "    def forwardPropagate(self, input: list) -> list:\n",
        "        previousLayer = self.layers[0]\n",
        "        previousLayer.setValue(numpy.array(input, dtype=float))\n",
        "        for layer in self.layers[1:]:\n",
        "            layer.forwardPropagate(previousLayer)\n",
        "            previousLayer = layer\n",
        "        return self.layers[-1].getValue()\n",
        "\n",
        "    def backPropagate(self, expectedOutput: list):\n",
        "        # Iterate from output layer down to first hidden layer (stop before input layer index 0)\n",
        "        for i in range(len(self.layers) - 1, 0, -1):\n",
        "            layer = self.layers[i]\n",
        "            # The nextLayer is in forward direction (None for output case)\n",
        "            nextLayer = self.layers[i + 1] if (i + 1) < len(self.layers) else None\n",
        "            # Output layer delta computed from target\n",
        "            if i == len(self.layers) - 1:\n",
        "                layer.setLocalGradient(numpy.array(expectedOutput, dtype=float))\n",
        "            # Compute deltas for this layer using nextLayer's weights/deltas\n",
        "            layer.backPropagate(nextLayer, self.learningRatio)\n",
        "\n",
        "    def train(self, dataset, epochs: int):\n",
        "        print(f\"Training network for {epochs} epochs!\")\n",
        "        # Training\n",
        "        for epoch in range(epochs):\n",
        "            outputsValues = []\n",
        "            expectedValues = []\n",
        "            for i in range(dataset.getSizeTrain()):\n",
        "                input = dataset.getArgumentTrain(i)\n",
        "                expected = dataset.getOutputTrain(i)\n",
        "                outputs = self.forwardPropagate(input)\n",
        "                outputsValues.append(numpy.array(outputs))\n",
        "                expectedValues.append(numpy.array(expected))\n",
        "                self.backPropagate(expected)\n",
        "            print(f\"Epoch {epoch} error (MSE): {self.loss(outputsValues, expectedValues):.6f}\")\n",
        "        # Training error\n",
        "        outputsValues = []\n",
        "        expectedValues = []\n",
        "        for i in range(dataset.getSizeTrain()):\n",
        "            input = dataset.getArgumentTrain(i)\n",
        "            expected = dataset.getOutputTrain(i)\n",
        "            outputs = self.forwardPropagate(input)\n",
        "            outputsValues.append(numpy.array(outputs))\n",
        "            expectedValues.append(numpy.array(expected))\n",
        "        print(f\"Training finished, error (MSE): {self.loss(outputsValues, expectedValues):.6f}\")\n",
        "\n",
        "    def validate(self, dataset):\n",
        "        # General\n",
        "        print(f\"Validating network!\")\n",
        "        outputsValues = []\n",
        "        expectedValues = []\n",
        "        for i in range(dataset.getSizeTest()):\n",
        "            input = dataset.getArgumentTest(i)\n",
        "            expected = dataset.getOutputTest(i)\n",
        "            outputs = self.forwardPropagate(input)\n",
        "            outputsValues.append(numpy.array(outputs))\n",
        "            expectedValues.append(numpy.array(expected))\n",
        "        print(f\"Validation error (MSE): {self.loss(outputsValues, expectedValues):.6f}\")\n",
        "        # Some random particular cases\n",
        "        images = []\n",
        "        titles = []\n",
        "        for i in range(0, 9):\n",
        "            randomIndex = random.randint(1, 10000)\n",
        "            randomInputRaw = dataset.getArgumentTestRaw(randomIndex)\n",
        "            randomInput = dataset.getArgumentTest(randomIndex)\n",
        "            outputs = self.forwardPropagate(randomInput)\n",
        "            prediction = dataset.unParseOutput(outputs)\n",
        "            randomOutputRaw = dataset.getOutputTest(randomIndex, parsed=False)\n",
        "            images.append(randomInputRaw)\n",
        "            titleText = f'Validation image [{str(randomIndex)}] = Value: {str(randomOutputRaw)} / Prediction: {str(prediction)}'\n",
        "            print(titleText)\n",
        "            titles.append(titleText)\n",
        "        dataset.showImages(images, titles)\n",
        "\n",
        "    @classmethod\n",
        "    def create(cls, dataset):\n",
        "        # Create the layers\n",
        "        inputLayer = Layer.create(dataset.getSizeArgumentTrain())\n",
        "        hiddenLayer1 = inputLayer.createNextLayer(16)\n",
        "        hiddenLayer2 = hiddenLayer1.createNextLayer(10)\n",
        "        output = hiddenLayer2.createNextLayer(10)\n",
        "        # Construct neural network\n",
        "        neuralNetwork = cls(0.1)\n",
        "        neuralNetwork.insertLayer(inputLayer)\n",
        "        neuralNetwork.insertLayer(hiddenLayer1)\n",
        "        neuralNetwork.insertLayer(hiddenLayer2)\n",
        "        neuralNetwork.insertLayer(output)\n",
        "        return neuralNetwork\n"
      ],
      "metadata": {
        "id": "5wGwsCOURUvr"
      },
      "execution_count": 40,
      "outputs": []
    },
    {
      "cell_type": "markdown",
      "source": [
        "## 2) Create the dataset and neural network\n",
        "\n",
        "When creating the Dataset object, we load all the training an validating data, also when creating the neural network we use the dataset size for the network arquitecture."
      ],
      "metadata": {
        "id": "kFjNLUyZqoX4"
      }
    },
    {
      "cell_type": "code",
      "source": [
        "dataset = Dataset()\n",
        "neuralNetwork = Network.create(dataset)"
      ],
      "metadata": {
        "colab": {
          "base_uri": "https://localhost:8080/"
        },
        "id": "ckjs6zB3YhBK",
        "outputId": "1ca8480a-1778-458f-9a98-0613dcda66a0"
      },
      "execution_count": 41,
      "outputs": [
        {
          "output_type": "stream",
          "name": "stdout",
          "text": [
            "Dataset - downloadData: File 'MNIST_dataset.zip' downloaded successfully.\n",
            "Dataset: Images and labels loaded succesfully!\n"
          ]
        }
      ]
    },
    {
      "cell_type": "markdown",
      "source": [
        "## 3) Train neural network\n",
        "\n",
        "For training we will backpropagate all the training data 5 times (epochs). This way we will see improvements in the error between inputs and outputs."
      ],
      "metadata": {
        "id": "tZUNSFJSrUeS"
      }
    },
    {
      "cell_type": "code",
      "source": [
        "epochs = 5\n",
        "neuralNetwork.train(dataset, epochs)"
      ],
      "metadata": {
        "colab": {
          "base_uri": "https://localhost:8080/"
        },
        "id": "czhoSGrYo5qf",
        "outputId": "9f5ef1cf-e21e-4a5f-81df-2d637280efaa"
      },
      "execution_count": 42,
      "outputs": [
        {
          "output_type": "stream",
          "name": "stdout",
          "text": [
            "Training network for 5 epochs!\n",
            "Epoch 0 error (MSE): 0.053699\n",
            "Epoch 1 error (MSE): 0.014207\n",
            "Epoch 2 error (MSE): 0.011182\n",
            "Epoch 3 error (MSE): 0.010054\n",
            "Epoch 4 error (MSE): 0.009388\n",
            "Training finished, error (MSE): 0.009094\n"
          ]
        }
      ]
    },
    {
      "cell_type": "markdown",
      "source": [
        "## 4) Validate neural network\n",
        "\n",
        "For validation we give the network the validation data inputs and calculate the error with the actual labels for this data, that the network has never seen.\n",
        "\n",
        "Also we test 9 random inputs and outputs, showing the input as an image, the output or label and the network prediction for this data."
      ],
      "metadata": {
        "id": "_btAdYf6r1P1"
      }
    },
    {
      "cell_type": "code",
      "source": [
        "neuralNetwork.validate(dataset)"
      ],
      "metadata": {
        "colab": {
          "base_uri": "https://localhost:8080/",
          "height": 906
        },
        "id": "WSzfjDibpAMz",
        "outputId": "ea0c019b-2b9b-49e5-c883-f5408c4c2d66"
      },
      "execution_count": 43,
      "outputs": [
        {
          "output_type": "stream",
          "name": "stdout",
          "text": [
            "Validating network!\n",
            "Validation error (MSE): 0.010124\n",
            "Validation image [6579] = Value: 4 / Prediction: 4\n",
            "Validation image [5910] = Value: 5 / Prediction: 5\n",
            "Validation image [4172] = Value: 4 / Prediction: 4\n",
            "Validation image [1649] = Value: 4 / Prediction: 4\n",
            "Validation image [7557] = Value: 9 / Prediction: 9\n",
            "Validation image [9143] = Value: 1 / Prediction: 1\n",
            "Validation image [3384] = Value: 2 / Prediction: 0\n",
            "Validation image [7991] = Value: 9 / Prediction: 9\n",
            "Validation image [9796] = Value: 1 / Prediction: 1\n",
            "\n",
            "\n"
          ]
        },
        {
          "output_type": "display_data",
          "data": {
            "text/plain": [
              "<Figure size 3000x2000 with 9 Axes>"
            ],
            "image/png": "[encoded data removed]"
          },
          "metadata": {}
        }
      ]
    },
    {
      "cell_type": "markdown",
      "source": [],
      "metadata": {
        "id": "wk_cWrFVNNg5"
      }
    }
  ]
}